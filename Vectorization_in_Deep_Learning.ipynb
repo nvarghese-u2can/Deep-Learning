{
  "nbformat": 4,
  "nbformat_minor": 0,
  "metadata": {
    "colab": {
      "name": "Vectorization in Deep Learning.ipynb",
      "provenance": [],
      "collapsed_sections": [],
      "authorship_tag": "ABX9TyP8ILAdcBcfuamOfvuBR7AZ",
      "include_colab_link": true
    },
    "kernelspec": {
      "name": "python3",
      "display_name": "Python 3"
    },
    "language_info": {
      "name": "python"
    }
  },
  "cells": [
    {
      "cell_type": "markdown",
      "metadata": {
        "id": "view-in-github",
        "colab_type": "text"
      },
      "source": [
        "<a href=\"https://colab.research.google.com/github/nvarghese-u2can/DeepLearning-with-TensorFlow--Keras-MyLearningProjects/blob/main/Vectorization_in_Deep_Learning.ipynb\" target=\"_parent\"><img src=\"https://colab.research.google.com/assets/colab-badge.svg\" alt=\"Open In Colab\"/></a>"
      ]
    },
    {
      "cell_type": "markdown",
      "metadata": {
        "id": "UGfDW0OsDgcs"
      },
      "source": [
        "Comparison of vectorization vs Normal operation for vector product operation"
      ]
    },
    {
      "cell_type": "code",
      "metadata": {
        "id": "-auY50h3_rZo"
      },
      "source": [
        "import numpy as np"
      ],
      "execution_count": 1,
      "outputs": []
    },
    {
      "cell_type": "code",
      "metadata": {
        "id": "Qm2LJtfhCEk_"
      },
      "source": [
        "data1 =np.random.rand(1000000)\n",
        "data2 =np.random.rand(1000000)"
      ],
      "execution_count": 3,
      "outputs": []
    },
    {
      "cell_type": "code",
      "metadata": {
        "id": "9bhIK-ljCMRp"
      },
      "source": [
        "import time"
      ],
      "execution_count": 4,
      "outputs": []
    },
    {
      "cell_type": "code",
      "metadata": {
        "colab": {
          "base_uri": "https://localhost:8080/"
        },
        "id": "V8rhTiuMCWCB",
        "outputId": "4e34db53-1278-4b4a-93e3-81f8144a16d4"
      },
      "source": [
        "tic = time.time()\n",
        "product = np.dot(data1,data2)\n",
        "toc = time.time()\n",
        "\n",
        "print('[Vectorization] product is',product, \" time taken is \" + str((toc-tic)*1000) + 'ms' )"
      ],
      "execution_count": 5,
      "outputs": [
        {
          "output_type": "stream",
          "name": "stdout",
          "text": [
            "product is 249948.02236961975  time taken is 2.2296905517578125ms\n"
          ]
        }
      ]
    },
    {
      "cell_type": "code",
      "metadata": {
        "colab": {
          "base_uri": "https://localhost:8080/"
        },
        "id": "I3BHnWSaC1iw",
        "outputId": "ded2fc4a-ce83-4394-c701-8009f9f9af2a"
      },
      "source": [
        "product = 0\n",
        "\n",
        "tic = time.time()\n",
        "for i in range(1000000):\n",
        "  product+=data1[i]*data2[i]\n",
        "\n",
        "toc = time.time()\n",
        "\n",
        "print('[Normal way] product is',product, \" time taken is \" + str((toc-tic)*1000) + 'ms' )"
      ],
      "execution_count": 6,
      "outputs": [
        {
          "output_type": "stream",
          "name": "stdout",
          "text": [
            "[Normal way] product is 249948.0223696192  time taken is 599.069356918335ms\n"
          ]
        }
      ]
    },
    {
      "cell_type": "code",
      "metadata": {
        "id": "z48-20V2Ddjb"
      },
      "source": [
        ""
      ],
      "execution_count": null,
      "outputs": []
    }
  ]
}